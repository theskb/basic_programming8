{
 "cells": [
  {
   "cell_type": "code",
   "execution_count": null,
   "metadata": {},
   "outputs": [],
   "source": [
    "#1.Write a Python Program to Add Two Matrices?"
   ]
  },
  {
   "cell_type": "code",
   "execution_count": 2,
   "metadata": {},
   "outputs": [
    {
     "name": "stdout",
     "output_type": "stream",
     "text": [
      "The Sum of two matrix \n",
      "\n",
      "[[1 4 6]\n",
      " [6 5 8]\n",
      " [3 5 7]]  and \n",
      "\n",
      "[[1 3 7]\n",
      " [5 8 3]\n",
      " [8 4 9]]  is \n",
      "\n",
      "[[ 2  7 13]\n",
      " [11 13 11]\n",
      " [11  9 16]] \n"
     ]
    }
   ],
   "source": [
    "import numpy as np\n",
    "\n",
    "mat1 = np.array([[1,4,6],\n",
    "        [6,5,8],\n",
    "        [3,5,7]])\n",
    "mat2 = np.array([[1,3,7],\n",
    "        [5,8,3],\n",
    "        [8,4,9]])\n",
    "\n",
    "Matsum = np.add(mat1,mat2)\n",
    "print(\"The Sum of two matrix \\n\\n{}  and \\n\\n{}  is \\n\\n{} \".format(mat1,mat2,Matsum))"
   ]
  },
  {
   "cell_type": "code",
   "execution_count": null,
   "metadata": {},
   "outputs": [],
   "source": [
    "#2.Write a Python Program to Multiply Two Matrices?"
   ]
  },
  {
   "cell_type": "code",
   "execution_count": 3,
   "metadata": {},
   "outputs": [
    {
     "name": "stdout",
     "output_type": "stream",
     "text": [
      "The product of two matrix \n",
      "\n",
      "[[1 4 6]\n",
      " [3 7 4]\n",
      " [9 1 2]]  and \n",
      "\n",
      "[[2 4 7]\n",
      " [5 6 8]\n",
      " [8 9 1]]  is \n",
      "\n",
      "[[70 82 45]\n",
      " [73 90 81]\n",
      " [39 60 73]] \n"
     ]
    }
   ],
   "source": [
    "import numpy as np\n",
    "\n",
    "mat1 = np.array([[1,4,6],\n",
    "        [3,7,4],\n",
    "        [9,1,2]])\n",
    "mat2 = np.array([[2,4,7],\n",
    "        [5,6,8],\n",
    "        [8,9,1]])\n",
    "\n",
    "mulMat = np.dot(mat1,mat2)\n",
    "print(\"The product of two matrix \\n\\n{}  and \\n\\n{}  is \\n\\n{} \".format(mat1,mat2,mulMat))"
   ]
  },
  {
   "cell_type": "code",
   "execution_count": null,
   "metadata": {},
   "outputs": [],
   "source": [
    "#3.Write a Python Program to Transpose a Matrix?"
   ]
  },
  {
   "cell_type": "code",
   "execution_count": 6,
   "metadata": {},
   "outputs": [
    {
     "name": "stdout",
     "output_type": "stream",
     "text": [
      "Enter N for N x N matrix: 2\n",
      "Enter the element :\n",
      "3\n",
      "2\n",
      "5\n",
      "6\n",
      "Display Array M1 In Matrix Form\n",
      "3 2 \n",
      "5 6 \n",
      "Transposed Matrix\n",
      "[3, 5]\n",
      "[2, 6]\n"
     ]
    }
   ],
   "source": [
    "def Matrix(n,v=0):\n",
    "    M=[]             \n",
    "    for i in range(n):\n",
    "        \n",
    "        row =[]\n",
    "        for j in range(n):\n",
    "            row.append(v)\n",
    "        M.append(row)\n",
    "    return(M)\n",
    "\n",
    "def crMatrix(n):\n",
    "    \n",
    "    M=[]             \n",
    "    print(\"Enter the element :\")\n",
    "    for i in range(n):\n",
    "        #stor row\n",
    "        row =[]\n",
    "        for j in range(n):\n",
    "            row.append(int(input()))\n",
    "        M.append(row)\n",
    "    return(M)\n",
    "\n",
    "def prMatrix(M,n):\n",
    "    for i in range(n):\n",
    "        for j in range(n):\n",
    "            print(M[i][j], end=\" \")\n",
    "        print() \n",
    "\n",
    "def tpMatrix(M,n,result):\n",
    "    for i in range(n):\n",
    "        for j in range(n):\n",
    "            result[i][j]= M[j][i]\n",
    "    return result\n",
    "\n",
    "n=int(input(\"Enter N for N x N matrix: \"))       \n",
    "M1 = crMatrix(n)\n",
    "\n",
    "print(\"Display Array M1 In Matrix Form\")\n",
    "prMatrix(M1,n)\n",
    "\n",
    "result = Matrix(n)\n",
    "result = tpMatrix(M1,n,result)\n",
    "print(\"Transposed Matrix\")\n",
    "for r in result:\n",
    "    print(r)"
   ]
  },
  {
   "cell_type": "code",
   "execution_count": null,
   "metadata": {},
   "outputs": [],
   "source": [
    "#4.Write a Python Program to Sort Words in Alphabetic Order?"
   ]
  },
  {
   "cell_type": "code",
   "execution_count": 2,
   "metadata": {},
   "outputs": [
    {
     "name": "stdout",
     "output_type": "stream",
     "text": [
      "Enter string sk a bb\n",
      "a\n",
      "bb\n",
      "sk\n"
     ]
    }
   ],
   "source": [
    "Arr = input(\"Enter string \")\n",
    "\n",
    "words = Arr.split()\n",
    "words.sort()\n",
    "for word in words:\n",
    "    print(word)"
   ]
  },
  {
   "cell_type": "code",
   "execution_count": null,
   "metadata": {},
   "outputs": [],
   "source": [
    "#5.Write a Python Program to Remove Punctuation From a String?"
   ]
  },
  {
   "cell_type": "code",
   "execution_count": 3,
   "metadata": {},
   "outputs": [
    {
     "name": "stdout",
     "output_type": "stream",
     "text": [
      "Enter a string with punctuationsi@am****skb\n",
      "iamskb\n"
     ]
    }
   ],
   "source": [
    "punctuations = '''!()-[]{};:'\"\\,<>./?@#$%^&*_~'''\n",
    "arr = input(\"Enter a string with punctuations\")\n",
    "\n",
    "\n",
    "rem_punc = \"\"\n",
    "for i in arr:\n",
    "    if i not in punctuations:\n",
    "        rem_punc = rem_punc + i\n",
    "\n",
    "# display \n",
    "print(rem_punc)"
   ]
  },
  {
   "cell_type": "code",
   "execution_count": null,
   "metadata": {},
   "outputs": [],
   "source": []
  }
 ],
 "metadata": {
  "kernelspec": {
   "display_name": "Python 3",
   "language": "python",
   "name": "python3"
  },
  "language_info": {
   "codemirror_mode": {
    "name": "ipython",
    "version": 3
   },
   "file_extension": ".py",
   "mimetype": "text/x-python",
   "name": "python",
   "nbconvert_exporter": "python",
   "pygments_lexer": "ipython3",
   "version": "3.8.5"
  }
 },
 "nbformat": 4,
 "nbformat_minor": 4
}
